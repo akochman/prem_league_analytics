{
 "cells": [
  {
   "cell_type": "code",
   "execution_count": 30,
   "metadata": {},
   "outputs": [],
   "source": [
    "import pandas as pd\n",
    "import json\n",
    "import requests\n",
    "from pandas.io.json import json_normalize\n",
    "\n",
    "#http://www.fantasyfutopia.com/python-for-fantasy-football-apis-and-json-data/"
   ]
  },
  {
   "cell_type": "code",
   "execution_count": 31,
   "metadata": {},
   "outputs": [],
   "source": [
    "# Define a function to get info from the FPL API and save to the specified file_path\n",
    "# It might be a good idea to navigate to the link in a browser to get an idea of what the data looks like\n",
    "def get_json(file_path):\n",
    "    r = requests.get('https://fantasy.premierleague.com/api/bootstrap-static/')\n",
    "    jsonResponse = r.json()\n",
    "    with open(file_path, 'w') as outfile:\n",
    "        json.dump(jsonResponse, outfile)\n",
    " \n",
    "# Run the function and choose where to save the json file\n",
    "get_json('C:/Users/aaron/prem_league_analytics/data/fpl.json')"
   ]
  },
  {
   "cell_type": "code",
   "execution_count": 32,
   "metadata": {},
   "outputs": [
    {
     "name": "stdout",
     "output_type": "stream",
     "text": [
      "['events', 'game_settings', 'phases', 'teams', 'total_players', 'elements', 'element_stats', 'element_types']\n"
     ]
    }
   ],
   "source": [
    "# Open the json file and print a list of the keys\n",
    "with open('C:/Users/aaron/prem_league_analytics/data/fpl.json') as json_data:\n",
    "    d = json.load(json_data)\n",
    "    print(list(d.keys()))"
   ]
  },
  {
   "cell_type": "code",
   "execution_count": 33,
   "metadata": {},
   "outputs": [
    {
     "name": "stdout",
     "output_type": "stream",
     "text": [
      "Columns:\n",
      " ['assists', 'bonus', 'bps', 'chance_of_playing_next_round', 'chance_of_playing_this_round', 'clean_sheets', 'code', 'cost_change_event', 'cost_change_event_fall', 'cost_change_start', 'cost_change_start_fall', 'creativity', 'dreamteam_count', 'element_type', 'ep_next', 'ep_this', 'event_points', 'first_name', 'form', 'goals_conceded', 'goals_scored', 'ict_index', 'id', 'in_dreamteam', 'influence', 'minutes', 'news', 'news_added', 'now_cost', 'own_goals', 'penalties_missed', 'penalties_saved', 'photo', 'points_per_game', 'red_cards', 'saves', 'second_name', 'selected_by_percent', 'special', 'squad_number', 'status', 'team', 'team_code', 'threat', 'total_points', 'transfers_in', 'transfers_in_event', 'transfers_out', 'transfers_out_event', 'value_form', 'value_season', 'web_name', 'yellow_cards'] \n",
      "\n",
      "Dataframe Head:\n",
      "    assists  bonus  bps  chance_of_playing_next_round  \\\n",
      "0        0      0    0                           NaN   \n",
      "1        0      0    0                         100.0   \n",
      "2        1      0   57                         100.0   \n",
      "3        2      3   92                         100.0   \n",
      "4        0      2   95                           NaN   \n",
      "\n",
      "   chance_of_playing_this_round  clean_sheets    code  cost_change_event  \\\n",
      "0                           NaN             0   69140                  0   \n",
      "1                          25.0             0   98745                  0   \n",
      "2                          75.0             0  111457                  0   \n",
      "3                           NaN             1  154043                  0   \n",
      "4                           NaN             1   39476                  0   \n",
      "\n",
      "   cost_change_event_fall  cost_change_start  ...  threat total_points  \\\n",
      "0                       0                 -2  ...     0.0            0   \n",
      "1                       0                 -1  ...     0.0            0   \n",
      "2                       0                 -1  ...    23.0            6   \n",
      "3                       0                  1  ...    31.0           17   \n",
      "4                       0                  0  ...    10.0           13   \n",
      "\n",
      "   transfers_in  transfers_in_event transfers_out transfers_out_event  \\\n",
      "0          4975                 273         24895                1045   \n",
      "1          3353                2037          5484                 385   \n",
      "2         22370                1376         67044                4443   \n",
      "3        529120                8191        282748               84937   \n",
      "4         65061                2125         69415                8311   \n",
      "\n",
      "   value_form value_season        web_name  yellow_cards  \n",
      "0         0.0          0.0         Mustafi             0  \n",
      "1         0.0          0.0        Bellerín             0  \n",
      "2         0.2          1.1       Kolasinac             1  \n",
      "3         0.2          3.3  Maitland-Niles             0  \n",
      "4         0.2          2.6        Sokratis             1  \n",
      "\n",
      "[5 rows x 53 columns]\n"
     ]
    }
   ],
   "source": [
    "df = json_normalize(d['elements'])\n",
    "print('Columns:\\n', list(df), '\\n')\n",
    "print('Dataframe Head:\\n', df.head())"
   ]
  },
  {
   "cell_type": "code",
   "execution_count": 39,
   "metadata": {},
   "outputs": [],
   "source": [
    "df.to_csv(r'C:\\Users\\aaron\\prem_league_analytics\\data\\fantasy_prem.csv')"
   ]
  },
  {
   "cell_type": "code",
   "execution_count": 21,
   "metadata": {},
   "outputs": [
    {
     "name": "stdout",
     "output_type": "stream",
     "text": [
      "Columns:\n",
      " ['code', 'draw', 'form', 'id', 'loss', 'name', 'played', 'points', 'position', 'short_name', 'strength', 'strength_attack_away', 'strength_attack_home', 'strength_defence_away', 'strength_defence_home', 'strength_overall_away', 'strength_overall_home', 'team_division', 'unavailable', 'win'] \n",
      "\n",
      "Dataframe Head:\n",
      "    code  draw  form  id  loss         name  played  points  position  \\\n",
      "0     3     0  None   1     0      Arsenal       0       0         0   \n",
      "1     7     0  None   2     0  Aston Villa       0       0         0   \n",
      "2    91     0  None   3     0  Bournemouth       0       0         0   \n",
      "3    36     0  None   4     0     Brighton       0       0         0   \n",
      "4    90     0  None   5     0      Burnley       0       0         0   \n",
      "\n",
      "  short_name  strength  strength_attack_away  strength_attack_home  \\\n",
      "0        ARS         4                  1260                  1210   \n",
      "1        AVL         2                  1060                  1050   \n",
      "2        BOU         3                  1070                  1020   \n",
      "3        BHA         2                  1090                  1050   \n",
      "4        BUR         3                  1050                  1000   \n",
      "\n",
      "   strength_defence_away  strength_defence_home  strength_overall_away  \\\n",
      "0                   1330                   1290                   1330   \n",
      "1                   1050                   1010                   1050   \n",
      "2                   1150                   1110                   1120   \n",
      "3                   1060                   1030                   1080   \n",
      "4                   1060                   1050                   1100   \n",
      "\n",
      "   strength_overall_home team_division  unavailable  win  \n",
      "0                   1250          None        False    0  \n",
      "1                    980          None        False    0  \n",
      "2                   1060          None        False    0  \n",
      "3                   1000          None        False    0  \n",
      "4                   1080          None        False    0  \n"
     ]
    }
   ],
   "source": [
    "# df_teams = json_normalize(d['teams'])\n",
    "# print('Columns:\\n', list(df_teams), '\\n')\n",
    "# print('Dataframe Head:\\n', df_teams.head())"
   ]
  },
  {
   "cell_type": "code",
   "execution_count": null,
   "metadata": {},
   "outputs": [],
   "source": []
  }
 ],
 "metadata": {
  "kernelspec": {
   "display_name": "Python 3",
   "language": "python",
   "name": "python3"
  },
  "language_info": {
   "codemirror_mode": {
    "name": "ipython",
    "version": 3
   },
   "file_extension": ".py",
   "mimetype": "text/x-python",
   "name": "python",
   "nbconvert_exporter": "python",
   "pygments_lexer": "ipython3",
   "version": "3.7.4"
  }
 },
 "nbformat": 4,
 "nbformat_minor": 4
}
